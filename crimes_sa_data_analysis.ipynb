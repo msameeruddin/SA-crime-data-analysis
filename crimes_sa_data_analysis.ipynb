{
 "cells": [
  {
   "cell_type": "markdown",
   "metadata": {},
   "source": [
    "### `import` Packages"
   ]
  },
  {
   "cell_type": "code",
   "execution_count": 1,
   "metadata": {},
   "outputs": [],
   "source": [
    "import warnings\n",
    "warnings.filterwarnings('ignore')\n",
    "\n",
    "import os\n",
    "import ee\n",
    "import geemap\n",
    "import requests\n",
    "\n",
    "import numpy as np\n",
    "import pandas as pd\n",
    "import geopandas as gpd\n",
    "from geopandas.tools import sjoin\n",
    "\n",
    "from ipyleaflet import (Choropleth, Marker, Popup, WidgetControl)\n",
    "from ipywidgets import (HTML, Text)\n",
    "\n",
    "from matplotlib import pyplot as plt\n",
    "from matplotlib import style\n",
    "\n",
    "style.use('seaborn-deep')"
   ]
  },
  {
   "cell_type": "code",
   "execution_count": 2,
   "metadata": {},
   "outputs": [],
   "source": [
    "ee.Initialize()"
   ]
  },
  {
   "cell_type": "markdown",
   "metadata": {},
   "source": [
    "**ORS Token**"
   ]
  },
  {
   "cell_type": "code",
   "execution_count": 3,
   "metadata": {},
   "outputs": [],
   "source": [
    "with open(file='ors_token.txt', mode='r') as ors:\n",
    "    api_key = ors.read()"
   ]
  },
  {
   "cell_type": "markdown",
   "metadata": {},
   "source": [
    "**Geocoder**"
   ]
  },
  {
   "cell_type": "code",
   "execution_count": 4,
   "metadata": {},
   "outputs": [],
   "source": [
    "def geocode(place, api_key):\n",
    "    url = 'https://api.openrouteservice.org/geocode/search?api_key={}&text={}'\n",
    "    url = url.format(api_key, place)\n",
    "    \n",
    "    headers = {\n",
    "        'Accept' : 'application/json, application/geo+json, application/gpx+xml, img/png; charset=utf-8',\n",
    "    }\n",
    "\n",
    "    req = requests.get(url=url, headers=headers)\n",
    "    print('Geocode response status - {} : {} {}'.format(place, req.status_code, req.reason))\n",
    "\n",
    "    if (req.status_code == 200):\n",
    "        req_data = req.json()\n",
    "        features = req_data['features']\n",
    "        # format - [longitude, latitude]\n",
    "        coords = features[0]['geometry']['coordinates']\n",
    "        return coords\n",
    "\n",
    "    return None"
   ]
  },
  {
   "cell_type": "markdown",
   "metadata": {},
   "source": [
    "### Data Reading\n",
    "\n",
    "* Source → https://www.kaggle.com/slwessels/crime-statistics-for-south-africa"
   ]
  },
  {
   "cell_type": "code",
   "execution_count": 5,
   "metadata": {},
   "outputs": [],
   "source": [
    "popn_province_df = pd.read_csv(filepath_or_buffer='Crimes_SA/ProvincePopulation.csv')\n",
    "sa_crimes_df = pd.read_csv(filepath_or_buffer='Crimes_SA/SouthAfricaCrimeStats_v2.csv')\n",
    "police_bounds_gdf = gpd.read_file(filename='Crimes_SA/Police_points.shp')"
   ]
  },
  {
   "cell_type": "code",
   "execution_count": 6,
   "metadata": {},
   "outputs": [
    {
     "data": {
      "text/html": [
       "<div>\n",
       "<style scoped>\n",
       "    .dataframe tbody tr th:only-of-type {\n",
       "        vertical-align: middle;\n",
       "    }\n",
       "\n",
       "    .dataframe tbody tr th {\n",
       "        vertical-align: top;\n",
       "    }\n",
       "\n",
       "    .dataframe thead th {\n",
       "        text-align: right;\n",
       "    }\n",
       "</style>\n",
       "<table border=\"1\" class=\"dataframe\">\n",
       "  <thead>\n",
       "    <tr style=\"text-align: right;\">\n",
       "      <th></th>\n",
       "      <th>Province</th>\n",
       "      <th>Station</th>\n",
       "      <th>Category</th>\n",
       "      <th>2005-2006</th>\n",
       "      <th>2006-2007</th>\n",
       "      <th>2007-2008</th>\n",
       "      <th>2008-2009</th>\n",
       "      <th>2009-2010</th>\n",
       "      <th>2010-2011</th>\n",
       "      <th>2011-2012</th>\n",
       "      <th>2012-2013</th>\n",
       "      <th>2013-2014</th>\n",
       "      <th>2014-2015</th>\n",
       "      <th>2015-2016</th>\n",
       "    </tr>\n",
       "  </thead>\n",
       "  <tbody>\n",
       "    <tr>\n",
       "      <th>0</th>\n",
       "      <td>Western Cape</td>\n",
       "      <td>Cape Town Central</td>\n",
       "      <td>All theft not mentioned elsewhere</td>\n",
       "      <td>6692</td>\n",
       "      <td>6341</td>\n",
       "      <td>5966</td>\n",
       "      <td>5187</td>\n",
       "      <td>4985</td>\n",
       "      <td>5127</td>\n",
       "      <td>5285</td>\n",
       "      <td>5937</td>\n",
       "      <td>5600</td>\n",
       "      <td>5335</td>\n",
       "      <td>5176</td>\n",
       "    </tr>\n",
       "    <tr>\n",
       "      <th>1</th>\n",
       "      <td>Gauteng</td>\n",
       "      <td>Jhb Central</td>\n",
       "      <td>All theft not mentioned elsewhere</td>\n",
       "      <td>6093</td>\n",
       "      <td>4602</td>\n",
       "      <td>3761</td>\n",
       "      <td>3610</td>\n",
       "      <td>3267</td>\n",
       "      <td>3037</td>\n",
       "      <td>2886</td>\n",
       "      <td>2638</td>\n",
       "      <td>2809</td>\n",
       "      <td>3050</td>\n",
       "      <td>2434</td>\n",
       "    </tr>\n",
       "    <tr>\n",
       "      <th>2</th>\n",
       "      <td>Western Cape</td>\n",
       "      <td>Mitchells Plain</td>\n",
       "      <td>All theft not mentioned elsewhere</td>\n",
       "      <td>5341</td>\n",
       "      <td>6093</td>\n",
       "      <td>6316</td>\n",
       "      <td>6803</td>\n",
       "      <td>6035</td>\n",
       "      <td>5761</td>\n",
       "      <td>6108</td>\n",
       "      <td>5514</td>\n",
       "      <td>4975</td>\n",
       "      <td>4043</td>\n",
       "      <td>3635</td>\n",
       "    </tr>\n",
       "    <tr>\n",
       "      <th>3</th>\n",
       "      <td>Free State</td>\n",
       "      <td>Park Road</td>\n",
       "      <td>All theft not mentioned elsewhere</td>\n",
       "      <td>5108</td>\n",
       "      <td>4282</td>\n",
       "      <td>3834</td>\n",
       "      <td>3316</td>\n",
       "      <td>3101</td>\n",
       "      <td>3013</td>\n",
       "      <td>2679</td>\n",
       "      <td>3116</td>\n",
       "      <td>2927</td>\n",
       "      <td>2297</td>\n",
       "      <td>2103</td>\n",
       "    </tr>\n",
       "    <tr>\n",
       "      <th>4</th>\n",
       "      <td>Gauteng</td>\n",
       "      <td>Pretoria Central</td>\n",
       "      <td>All theft not mentioned elsewhere</td>\n",
       "      <td>5099</td>\n",
       "      <td>4536</td>\n",
       "      <td>3309</td>\n",
       "      <td>2694</td>\n",
       "      <td>2616</td>\n",
       "      <td>2606</td>\n",
       "      <td>2635</td>\n",
       "      <td>3226</td>\n",
       "      <td>3246</td>\n",
       "      <td>2892</td>\n",
       "      <td>3030</td>\n",
       "    </tr>\n",
       "  </tbody>\n",
       "</table>\n",
       "</div>"
      ],
      "text/plain": [
       "       Province            Station                           Category  \\\n",
       "0  Western Cape  Cape Town Central  All theft not mentioned elsewhere   \n",
       "1       Gauteng        Jhb Central  All theft not mentioned elsewhere   \n",
       "2  Western Cape    Mitchells Plain  All theft not mentioned elsewhere   \n",
       "3    Free State          Park Road  All theft not mentioned elsewhere   \n",
       "4       Gauteng   Pretoria Central  All theft not mentioned elsewhere   \n",
       "\n",
       "   2005-2006  2006-2007  2007-2008  2008-2009  2009-2010  2010-2011  \\\n",
       "0       6692       6341       5966       5187       4985       5127   \n",
       "1       6093       4602       3761       3610       3267       3037   \n",
       "2       5341       6093       6316       6803       6035       5761   \n",
       "3       5108       4282       3834       3316       3101       3013   \n",
       "4       5099       4536       3309       2694       2616       2606   \n",
       "\n",
       "   2011-2012  2012-2013  2013-2014  2014-2015  2015-2016  \n",
       "0       5285       5937       5600       5335       5176  \n",
       "1       2886       2638       2809       3050       2434  \n",
       "2       6108       5514       4975       4043       3635  \n",
       "3       2679       3116       2927       2297       2103  \n",
       "4       2635       3226       3246       2892       3030  "
      ]
     },
     "execution_count": 6,
     "metadata": {},
     "output_type": "execute_result"
    }
   ],
   "source": [
    "sa_crimes_df.head()"
   ]
  },
  {
   "cell_type": "code",
   "execution_count": 7,
   "metadata": {},
   "outputs": [],
   "source": [
    "police_bounds_gdf['COMPNT_NM'] = police_bounds_gdf['COMPNT_NM'].apply(lambda x: x.title())\n",
    "police_bounds_gdf['CREATE_YEAR'] = police_bounds_gdf['CREATE_DT'].apply(lambda x: str(x)[:4])"
   ]
  },
  {
   "cell_type": "code",
   "execution_count": 8,
   "metadata": {},
   "outputs": [
    {
     "name": "stdout",
     "output_type": "stream",
     "text": [
      "Population Province - shape :  (9, 4)\n",
      "SA Crimes Data - shape :  (30861, 14)\n",
      "Police Bounds Data - shape :  (1143, 7)\n"
     ]
    }
   ],
   "source": [
    "print('Population Province - shape : ', popn_province_df.shape)\n",
    "print('SA Crimes Data - shape : ', sa_crimes_df.shape)\n",
    "print('Police Bounds Data - shape : ', police_bounds_gdf.shape)"
   ]
  },
  {
   "cell_type": "markdown",
   "metadata": {},
   "source": [
    "### Additional Data"
   ]
  },
  {
   "cell_type": "markdown",
   "metadata": {},
   "source": [
    "**SA - Country, States, Districts**\n",
    "\n",
    "* Download data by country → https://www.diva-gis.org/gdata"
   ]
  },
  {
   "cell_type": "code",
   "execution_count": 9,
   "metadata": {},
   "outputs": [],
   "source": [
    "sa_country = gpd.read_file(filename='south_africa/south_africa.shp')\n",
    "sa_states = gpd.read_file(filename='ZAF_adm1/ZAF_adm1.shp')\n",
    "sa_districts = gpd.read_file(filename='ZAF_adm2/ZAF_adm2.shp')"
   ]
  },
  {
   "cell_type": "code",
   "execution_count": 10,
   "metadata": {},
   "outputs": [
    {
     "data": {
      "text/html": [
       "<div>\n",
       "<style scoped>\n",
       "    .dataframe tbody tr th:only-of-type {\n",
       "        vertical-align: middle;\n",
       "    }\n",
       "\n",
       "    .dataframe tbody tr th {\n",
       "        vertical-align: top;\n",
       "    }\n",
       "\n",
       "    .dataframe thead th {\n",
       "        text-align: right;\n",
       "    }\n",
       "</style>\n",
       "<table border=\"1\" class=\"dataframe\">\n",
       "  <thead>\n",
       "    <tr style=\"text-align: right;\">\n",
       "      <th></th>\n",
       "      <th>ID_0</th>\n",
       "      <th>ISO</th>\n",
       "      <th>NAME_0</th>\n",
       "      <th>ID_1</th>\n",
       "      <th>NAME_1</th>\n",
       "      <th>ID_2</th>\n",
       "      <th>NAME_2</th>\n",
       "      <th>TYPE_2</th>\n",
       "      <th>ENGTYPE_2</th>\n",
       "      <th>NL_NAME_2</th>\n",
       "      <th>VARNAME_2</th>\n",
       "      <th>geometry</th>\n",
       "    </tr>\n",
       "  </thead>\n",
       "  <tbody>\n",
       "    <tr>\n",
       "      <th>0</th>\n",
       "      <td>211</td>\n",
       "      <td>ZAF</td>\n",
       "      <td>South Africa</td>\n",
       "      <td>1</td>\n",
       "      <td>Eastern Cape</td>\n",
       "      <td>1</td>\n",
       "      <td>Aberdeen</td>\n",
       "      <td>Magisterial District</td>\n",
       "      <td>Magisterial District</td>\n",
       "      <td>None</td>\n",
       "      <td>None</td>\n",
       "      <td>POLYGON ((23.98008 -33.06299, 23.61392 -32.932...</td>\n",
       "    </tr>\n",
       "    <tr>\n",
       "      <th>1</th>\n",
       "      <td>211</td>\n",
       "      <td>ZAF</td>\n",
       "      <td>South Africa</td>\n",
       "      <td>1</td>\n",
       "      <td>Eastern Cape</td>\n",
       "      <td>2</td>\n",
       "      <td>Adelaide</td>\n",
       "      <td>Magisterial District</td>\n",
       "      <td>Magisterial District</td>\n",
       "      <td>None</td>\n",
       "      <td>None</td>\n",
       "      <td>POLYGON ((26.44046 -32.37127, 26.42860 -32.961...</td>\n",
       "    </tr>\n",
       "    <tr>\n",
       "      <th>2</th>\n",
       "      <td>211</td>\n",
       "      <td>ZAF</td>\n",
       "      <td>South Africa</td>\n",
       "      <td>1</td>\n",
       "      <td>Eastern Cape</td>\n",
       "      <td>3</td>\n",
       "      <td>Albany</td>\n",
       "      <td>Magisterial District</td>\n",
       "      <td>Magisterial District</td>\n",
       "      <td>None</td>\n",
       "      <td>None</td>\n",
       "      <td>POLYGON ((25.99546 -33.31073, 25.99545 -33.101...</td>\n",
       "    </tr>\n",
       "    <tr>\n",
       "      <th>3</th>\n",
       "      <td>211</td>\n",
       "      <td>ZAF</td>\n",
       "      <td>South Africa</td>\n",
       "      <td>1</td>\n",
       "      <td>Eastern Cape</td>\n",
       "      <td>4</td>\n",
       "      <td>Albert</td>\n",
       "      <td>Magisterial District</td>\n",
       "      <td>Magisterial District</td>\n",
       "      <td>None</td>\n",
       "      <td>None</td>\n",
       "      <td>POLYGON ((26.70680 -31.15412, 26.68253 -31.186...</td>\n",
       "    </tr>\n",
       "    <tr>\n",
       "      <th>4</th>\n",
       "      <td>211</td>\n",
       "      <td>ZAF</td>\n",
       "      <td>South Africa</td>\n",
       "      <td>1</td>\n",
       "      <td>Eastern Cape</td>\n",
       "      <td>5</td>\n",
       "      <td>Alexandria</td>\n",
       "      <td>Magisterial District</td>\n",
       "      <td>Magisterial District</td>\n",
       "      <td>None</td>\n",
       "      <td>None</td>\n",
       "      <td>POLYGON ((25.86850 -33.71847, 25.84171 -33.681...</td>\n",
       "    </tr>\n",
       "  </tbody>\n",
       "</table>\n",
       "</div>"
      ],
      "text/plain": [
       "   ID_0  ISO        NAME_0  ID_1        NAME_1  ID_2      NAME_2  \\\n",
       "0   211  ZAF  South Africa     1  Eastern Cape     1    Aberdeen   \n",
       "1   211  ZAF  South Africa     1  Eastern Cape     2    Adelaide   \n",
       "2   211  ZAF  South Africa     1  Eastern Cape     3      Albany   \n",
       "3   211  ZAF  South Africa     1  Eastern Cape     4      Albert   \n",
       "4   211  ZAF  South Africa     1  Eastern Cape     5  Alexandria   \n",
       "\n",
       "                 TYPE_2             ENGTYPE_2 NL_NAME_2 VARNAME_2  \\\n",
       "0  Magisterial District  Magisterial District      None      None   \n",
       "1  Magisterial District  Magisterial District      None      None   \n",
       "2  Magisterial District  Magisterial District      None      None   \n",
       "3  Magisterial District  Magisterial District      None      None   \n",
       "4  Magisterial District  Magisterial District      None      None   \n",
       "\n",
       "                                            geometry  \n",
       "0  POLYGON ((23.98008 -33.06299, 23.61392 -32.932...  \n",
       "1  POLYGON ((26.44046 -32.37127, 26.42860 -32.961...  \n",
       "2  POLYGON ((25.99546 -33.31073, 25.99545 -33.101...  \n",
       "3  POLYGON ((26.70680 -31.15412, 26.68253 -31.186...  \n",
       "4  POLYGON ((25.86850 -33.71847, 25.84171 -33.681...  "
      ]
     },
     "execution_count": 10,
     "metadata": {},
     "output_type": "execute_result"
    }
   ],
   "source": [
    "sa_districts.head()"
   ]
  },
  {
   "cell_type": "code",
   "execution_count": 11,
   "metadata": {},
   "outputs": [],
   "source": [
    "sa_districts.drop(columns=['NL_NAME_2', 'VARNAME_2'], inplace=True)\n",
    "sa_districts.dropna(axis=0, inplace=True)\n",
    "sa_districts['NAME_1'] = sa_districts['NAME_1'].apply(lambda x: x.title().replace('-', '/'))"
   ]
  },
  {
   "cell_type": "code",
   "execution_count": 12,
   "metadata": {},
   "outputs": [
    {
     "data": {
      "text/html": [
       "<div>\n",
       "<style scoped>\n",
       "    .dataframe tbody tr th:only-of-type {\n",
       "        vertical-align: middle;\n",
       "    }\n",
       "\n",
       "    .dataframe tbody tr th {\n",
       "        vertical-align: top;\n",
       "    }\n",
       "\n",
       "    .dataframe thead th {\n",
       "        text-align: right;\n",
       "    }\n",
       "</style>\n",
       "<table border=\"1\" class=\"dataframe\">\n",
       "  <thead>\n",
       "    <tr style=\"text-align: right;\">\n",
       "      <th></th>\n",
       "      <th>ID_0</th>\n",
       "      <th>ISO</th>\n",
       "      <th>NAME_0</th>\n",
       "      <th>ID_1</th>\n",
       "      <th>NAME_1</th>\n",
       "      <th>ID_2</th>\n",
       "      <th>NAME_2</th>\n",
       "      <th>TYPE_2</th>\n",
       "      <th>ENGTYPE_2</th>\n",
       "      <th>geometry</th>\n",
       "    </tr>\n",
       "  </thead>\n",
       "  <tbody>\n",
       "    <tr>\n",
       "      <th>0</th>\n",
       "      <td>211</td>\n",
       "      <td>ZAF</td>\n",
       "      <td>South Africa</td>\n",
       "      <td>1</td>\n",
       "      <td>Eastern Cape</td>\n",
       "      <td>1</td>\n",
       "      <td>Aberdeen</td>\n",
       "      <td>Magisterial District</td>\n",
       "      <td>Magisterial District</td>\n",
       "      <td>POLYGON ((23.98008 -33.06299, 23.61392 -32.932...</td>\n",
       "    </tr>\n",
       "    <tr>\n",
       "      <th>1</th>\n",
       "      <td>211</td>\n",
       "      <td>ZAF</td>\n",
       "      <td>South Africa</td>\n",
       "      <td>1</td>\n",
       "      <td>Eastern Cape</td>\n",
       "      <td>2</td>\n",
       "      <td>Adelaide</td>\n",
       "      <td>Magisterial District</td>\n",
       "      <td>Magisterial District</td>\n",
       "      <td>POLYGON ((26.44046 -32.37127, 26.42860 -32.961...</td>\n",
       "    </tr>\n",
       "    <tr>\n",
       "      <th>2</th>\n",
       "      <td>211</td>\n",
       "      <td>ZAF</td>\n",
       "      <td>South Africa</td>\n",
       "      <td>1</td>\n",
       "      <td>Eastern Cape</td>\n",
       "      <td>3</td>\n",
       "      <td>Albany</td>\n",
       "      <td>Magisterial District</td>\n",
       "      <td>Magisterial District</td>\n",
       "      <td>POLYGON ((25.99546 -33.31073, 25.99545 -33.101...</td>\n",
       "    </tr>\n",
       "    <tr>\n",
       "      <th>3</th>\n",
       "      <td>211</td>\n",
       "      <td>ZAF</td>\n",
       "      <td>South Africa</td>\n",
       "      <td>1</td>\n",
       "      <td>Eastern Cape</td>\n",
       "      <td>4</td>\n",
       "      <td>Albert</td>\n",
       "      <td>Magisterial District</td>\n",
       "      <td>Magisterial District</td>\n",
       "      <td>POLYGON ((26.70680 -31.15412, 26.68253 -31.186...</td>\n",
       "    </tr>\n",
       "    <tr>\n",
       "      <th>4</th>\n",
       "      <td>211</td>\n",
       "      <td>ZAF</td>\n",
       "      <td>South Africa</td>\n",
       "      <td>1</td>\n",
       "      <td>Eastern Cape</td>\n",
       "      <td>5</td>\n",
       "      <td>Alexandria</td>\n",
       "      <td>Magisterial District</td>\n",
       "      <td>Magisterial District</td>\n",
       "      <td>POLYGON ((25.86850 -33.71847, 25.84171 -33.681...</td>\n",
       "    </tr>\n",
       "  </tbody>\n",
       "</table>\n",
       "</div>"
      ],
      "text/plain": [
       "   ID_0  ISO        NAME_0  ID_1        NAME_1  ID_2      NAME_2  \\\n",
       "0   211  ZAF  South Africa     1  Eastern Cape     1    Aberdeen   \n",
       "1   211  ZAF  South Africa     1  Eastern Cape     2    Adelaide   \n",
       "2   211  ZAF  South Africa     1  Eastern Cape     3      Albany   \n",
       "3   211  ZAF  South Africa     1  Eastern Cape     4      Albert   \n",
       "4   211  ZAF  South Africa     1  Eastern Cape     5  Alexandria   \n",
       "\n",
       "                 TYPE_2             ENGTYPE_2  \\\n",
       "0  Magisterial District  Magisterial District   \n",
       "1  Magisterial District  Magisterial District   \n",
       "2  Magisterial District  Magisterial District   \n",
       "3  Magisterial District  Magisterial District   \n",
       "4  Magisterial District  Magisterial District   \n",
       "\n",
       "                                            geometry  \n",
       "0  POLYGON ((23.98008 -33.06299, 23.61392 -32.932...  \n",
       "1  POLYGON ((26.44046 -32.37127, 26.42860 -32.961...  \n",
       "2  POLYGON ((25.99546 -33.31073, 25.99545 -33.101...  \n",
       "3  POLYGON ((26.70680 -31.15412, 26.68253 -31.186...  \n",
       "4  POLYGON ((25.86850 -33.71847, 25.84171 -33.681...  "
      ]
     },
     "execution_count": 12,
     "metadata": {},
     "output_type": "execute_result"
    }
   ],
   "source": [
    "sa_districts.head()"
   ]
  },
  {
   "cell_type": "markdown",
   "metadata": {},
   "source": [
    "**Converting `.shp` files into `ee` objects**"
   ]
  },
  {
   "cell_type": "code",
   "execution_count": 13,
   "metadata": {},
   "outputs": [],
   "source": [
    "sa_country_ee = geemap.geopandas_to_ee(gdf=sa_country)\n",
    "sa_states_ee = geemap.geopandas_to_ee(gdf=sa_states)\n",
    "# sa_districts_ee = geemap.geopandas_to_ee(gdf=sa_districts)"
   ]
  },
  {
   "cell_type": "code",
   "execution_count": 14,
   "metadata": {},
   "outputs": [
    {
     "name": "stdout",
     "output_type": "stream",
     "text": [
      "Geocode response status - south africa : 200 OK\n"
     ]
    }
   ],
   "source": [
    "location = geocode(place='south africa', api_key=api_key)\n",
    "location = location[::-1]"
   ]
  },
  {
   "cell_type": "markdown",
   "metadata": {},
   "source": [
    "**South Africa - Provinces**"
   ]
  },
  {
   "cell_type": "code",
   "execution_count": 15,
   "metadata": {},
   "outputs": [],
   "source": [
    "# m = geemap.Map(location=location, zoom=5)\n",
    "\n",
    "# m.addLayer(ee_object=sa_country_ee, vis_params={}, name='SA Country', shown=False)\n",
    "# m.addLayer(ee_object=sa_states_ee, vis_params={}, name='SA States')\n",
    "# # m.addLayer(ee_object=sa_districts_ee, vis_params={}, name='SA Districts', shown=False)\n",
    "\n",
    "# m"
   ]
  },
  {
   "cell_type": "markdown",
   "metadata": {},
   "source": [
    "**Merging `sa_states` and `popn_province_df`**"
   ]
  },
  {
   "cell_type": "code",
   "execution_count": 16,
   "metadata": {},
   "outputs": [
    {
     "data": {
      "text/html": [
       "<div>\n",
       "<style scoped>\n",
       "    .dataframe tbody tr th:only-of-type {\n",
       "        vertical-align: middle;\n",
       "    }\n",
       "\n",
       "    .dataframe tbody tr th {\n",
       "        vertical-align: top;\n",
       "    }\n",
       "\n",
       "    .dataframe thead th {\n",
       "        text-align: right;\n",
       "    }\n",
       "</style>\n",
       "<table border=\"1\" class=\"dataframe\">\n",
       "  <thead>\n",
       "    <tr style=\"text-align: right;\">\n",
       "      <th></th>\n",
       "      <th>Population</th>\n",
       "      <th>Area</th>\n",
       "      <th>Density</th>\n",
       "      <th>geometry</th>\n",
       "    </tr>\n",
       "    <tr>\n",
       "      <th>Province</th>\n",
       "      <th></th>\n",
       "      <th></th>\n",
       "      <th></th>\n",
       "      <th></th>\n",
       "    </tr>\n",
       "  </thead>\n",
       "  <tbody>\n",
       "    <tr>\n",
       "      <th>Eastern Cape</th>\n",
       "      <td>6562053</td>\n",
       "      <td>168966</td>\n",
       "      <td>38.8</td>\n",
       "      <td>POLYGON ((30.19697 -31.07903, 29.99014 -31.312...</td>\n",
       "    </tr>\n",
       "    <tr>\n",
       "      <th>Free State</th>\n",
       "      <td>2745590</td>\n",
       "      <td>129825</td>\n",
       "      <td>21.1</td>\n",
       "      <td>POLYGON ((28.28889 -26.91306, 28.48056 -26.959...</td>\n",
       "    </tr>\n",
       "    <tr>\n",
       "      <th>Gauteng</th>\n",
       "      <td>12272263</td>\n",
       "      <td>18178</td>\n",
       "      <td>675.1</td>\n",
       "      <td>POLYGON ((28.28889 -26.91306, 28.07222 -26.838...</td>\n",
       "    </tr>\n",
       "    <tr>\n",
       "      <th>Kwazulu/Natal</th>\n",
       "      <td>10267300</td>\n",
       "      <td>94361</td>\n",
       "      <td>108.8</td>\n",
       "      <td>POLYGON ((30.19697 -31.07903, 30.05333 -30.846...</td>\n",
       "    </tr>\n",
       "    <tr>\n",
       "      <th>Limpopo</th>\n",
       "      <td>5404868</td>\n",
       "      <td>125755</td>\n",
       "      <td>43.0</td>\n",
       "      <td>POLYGON ((31.87546 -23.95414, 31.77695 -23.965...</td>\n",
       "    </tr>\n",
       "  </tbody>\n",
       "</table>\n",
       "</div>"
      ],
      "text/plain": [
       "               Population    Area  Density  \\\n",
       "Province                                     \n",
       "Eastern Cape      6562053  168966     38.8   \n",
       "Free State        2745590  129825     21.1   \n",
       "Gauteng          12272263   18178    675.1   \n",
       "Kwazulu/Natal    10267300   94361    108.8   \n",
       "Limpopo           5404868  125755     43.0   \n",
       "\n",
       "                                                        geometry  \n",
       "Province                                                          \n",
       "Eastern Cape   POLYGON ((30.19697 -31.07903, 29.99014 -31.312...  \n",
       "Free State     POLYGON ((28.28889 -26.91306, 28.48056 -26.959...  \n",
       "Gauteng        POLYGON ((28.28889 -26.91306, 28.07222 -26.838...  \n",
       "Kwazulu/Natal  POLYGON ((30.19697 -31.07903, 30.05333 -30.846...  \n",
       "Limpopo        POLYGON ((31.87546 -23.95414, 31.77695 -23.965...  "
      ]
     },
     "execution_count": 16,
     "metadata": {},
     "output_type": "execute_result"
    }
   ],
   "source": [
    "sa_states = sa_states[['NAME_1', 'geometry']]\n",
    "sa_states.columns = ['Province', 'geometry']\n",
    "sa_states['Province'] = sa_states['Province'].apply(lambda x: x.title().replace('-', '/'))\n",
    "sa_provinces_df  = popn_province_df.merge(right=sa_states, on='Province', how='right')\n",
    "sa_provinces_gdf = gpd.GeoDataFrame(sa_provinces_df)\n",
    "sa_provinces_gdf = sa_provinces_gdf.set_index(keys='Province')\n",
    "sa_provinces_gdf.head()"
   ]
  },
  {
   "cell_type": "code",
   "execution_count": 17,
   "metadata": {},
   "outputs": [
    {
     "data": {
      "text/plain": [
       "['Eastern Cape',\n",
       " 'Free State',\n",
       " 'Gauteng',\n",
       " 'Kwazulu/Natal',\n",
       " 'Limpopo',\n",
       " 'Mpumalanga',\n",
       " 'North West',\n",
       " 'Northern Cape',\n",
       " 'Western Cape']"
      ]
     },
     "execution_count": 17,
     "metadata": {},
     "output_type": "execute_result"
    }
   ],
   "source": [
    "sa_provinces_gdf.index.to_list()"
   ]
  },
  {
   "cell_type": "markdown",
   "metadata": {},
   "source": [
    "### EDA and Visualization"
   ]
  },
  {
   "cell_type": "markdown",
   "metadata": {},
   "source": [
    "**Population of each province of SA**"
   ]
  },
  {
   "cell_type": "code",
   "execution_count": 18,
   "metadata": {},
   "outputs": [
    {
     "data": {
      "image/png": "[encoded data removed]",
      "text/plain": [
       "<Figure size 432x288 with 1 Axes>"
      ]
     },
     "metadata": {
      "needs_background": "light"
     },
     "output_type": "display_data"
    }
   ],
   "source": [
    "popn_province_df.plot(x='Province', y='Population', kind='bar')\n",
    "plt.show()"
   ]
  },
  {
   "cell_type": "markdown",
   "metadata": {},
   "source": [
    "**Choropleth map visualization of provinces w.r.t population**"
   ]
  },
  {
   "cell_type": "code",
   "execution_count": 19,
   "metadata": {
    "scrolled": false
   },
   "outputs": [
    {
     "data": {
      "application/vnd.jupyter.widget-view+json": {
       "model_id": "60faf3c26f77484fa54d1581f1de8c83",
       "version_major": 2,
       "version_minor": 0
      },
      "text/plain": [
       "Map(center=[-31.3096, 18.357], controls=(WidgetControl(options=['position', 'transparent_bg'], widget=HBox(chi…"
      ]
     },
     "metadata": {},
     "output_type": "display_data"
    }
   ],
   "source": [
    "m = geemap.Map(location=location, zoom=5)\n",
    "\n",
    "choropleth_layer = Choropleth(\n",
    "    geo_data=sa_provinces_gdf.geometry.__geo_interface__,\n",
    "    choro_data=dict(sa_provinces_gdf['Population']),\n",
    "    style={'fillOpacity': 1.0, \"color\":\"black\"}\n",
    ")\n",
    "\n",
    "m.add_layer(layer=choropleth_layer)\n",
    "\n",
    "m"
   ]
  },
  {
   "cell_type": "markdown",
   "metadata": {},
   "source": [
    "**All Crimes**"
   ]
  },
  {
   "cell_type": "code",
   "execution_count": 20,
   "metadata": {},
   "outputs": [
    {
     "data": {
      "text/plain": [
       "['Theft of motor vehicle and motorcycle',\n",
       " 'Truck hijacking',\n",
       " 'Sexual offences as result of police action',\n",
       " 'All theft not mentioned elsewhere',\n",
       " 'Commercial crime',\n",
       " 'Burglary at residential premises',\n",
       " 'Driving under the influence of alcohol or drugs',\n",
       " 'Common robbery',\n",
       " 'Robbery at residential premises',\n",
       " 'Drug-related crime',\n",
       " 'Common assault',\n",
       " 'Robbery with aggravating circumstances',\n",
       " 'Attempted murder',\n",
       " 'Sexual Offences',\n",
       " 'Illegal possession of firearms and ammunition',\n",
       " 'Malicious damage to property',\n",
       " 'Robbery at non-residential premises',\n",
       " 'Bank robbery',\n",
       " 'Carjacking',\n",
       " 'Murder',\n",
       " 'Shoplifting',\n",
       " 'Arson',\n",
       " 'Burglary at non-residential premises',\n",
       " 'Assault with the intent to inflict grievous bodily harm',\n",
       " 'Theft out of or from motor vehicle',\n",
       " 'Stock-theft',\n",
       " 'Robbery of cash in transit']"
      ]
     },
     "execution_count": 20,
     "metadata": {},
     "output_type": "execute_result"
    }
   ],
   "source": [
    "crimes_list = sa_crimes_df['Category'].value_counts().index.to_list()\n",
    "crimes_list"
   ]
  },
  {
   "cell_type": "markdown",
   "metadata": {},
   "source": [
    "**Crimes (single) reported per station in a selected province and year**"
   ]
  },
  {
   "cell_type": "code",
   "execution_count": 21,
   "metadata": {},
   "outputs": [],
   "source": [
    "def get_coords(police_df, station):\n",
    "    try:\n",
    "        coords = police_df[police_df['COMPNT_NM'] == station].geometry.values[0]\n",
    "    except Exception as e:\n",
    "        coords = None\n",
    "    return coords\n",
    "\n",
    "def fetch_crime_by_stations(province, crimes_data, police_data, category, year, threshold=20, showplot=False):\n",
    "    if not province:\n",
    "        return None\n",
    "    \n",
    "    if not year in range(2005, 2016):\n",
    "        return None\n",
    "    \n",
    "    start_year = year\n",
    "    end_year = start_year + 1\n",
    "    year_col = '{}-{}'.format(start_year, end_year)\n",
    "    \n",
    "    p_df = crimes_data[crimes_data['Province'] == province]\n",
    "    pc_df = p_df[p_df['Category'] == category]\n",
    "    sc_df = pc_df[['Station', year_col]]\n",
    "    \n",
    "    sc_df = pc_df.groupby(by='Station').sum()\n",
    "    sc_df = sc_df.reset_index()\n",
    "    \n",
    "    if isinstance(threshold, int):\n",
    "        sc_df = sc_df[sc_df[year_col] > threshold]\n",
    "    \n",
    "    sc_df['geometry'] = [get_coords(police_df=police_data, station=i) for i in sc_df['Station']]\n",
    "    \n",
    "    if showplot:\n",
    "        fig, ax = plt.subplots()\n",
    "        plt.title('Crime Category : {}; Province : {}'.format(category, province))\n",
    "        sc_df.plot(x='Station', y=year_col, kind='barh', figsize=(10, 10), ax=ax)\n",
    "        plt.show()\n",
    "        return None\n",
    "    \n",
    "    return gpd.GeoDataFrame(sc_df)"
   ]
  },
  {
   "cell_type": "markdown",
   "metadata": {},
   "source": [
    "**Murders in the year `2006`**"
   ]
  },
  {
   "cell_type": "code",
   "execution_count": 22,
   "metadata": {},
   "outputs": [
    {
     "data": {
      "image/png": "[encoded data removed]",
      "text/plain": [
       "<Figure size 720x720 with 1 Axes>"
      ]
     },
     "metadata": {
      "needs_background": "light"
     },
     "output_type": "display_data"
    }
   ],
   "source": [
    "fetch_crime_by_stations(\n",
    "    province='Western Cape',\n",
    "    crimes_data=sa_crimes_df,\n",
    "    police_data=police_bounds_gdf,\n",
    "    category='Murder',\n",
    "    year=2006,\n",
    "    showplot=True\n",
    ")"
   ]
  },
  {
   "cell_type": "markdown",
   "metadata": {},
   "source": [
    "**Murders in the year `2010`**"
   ]
  },
  {
   "cell_type": "code",
   "execution_count": 23,
   "metadata": {},
   "outputs": [],
   "source": [
    "# fetch_crime_by_stations(\n",
    "#     province='Eastern Cape',\n",
    "#     crimes_data=sa_crimes_df,\n",
    "#     police_data=police_bounds_gdf,\n",
    "#     category='Murder',\n",
    "#     year=2010,\n",
    "#     showplot=True\n",
    "# )"
   ]
  },
  {
   "cell_type": "markdown",
   "metadata": {},
   "source": [
    "**Plot stations by province**"
   ]
  },
  {
   "cell_type": "code",
   "execution_count": 24,
   "metadata": {},
   "outputs": [],
   "source": [
    "def plot_stations_by_province(province, district_bounds, crimes_data, police_data, category, year):\n",
    "    start_year = year\n",
    "    end_year = start_year + 1\n",
    "    year_col = '{}-{}'.format(start_year, end_year)\n",
    "    \n",
    "    sc_gdf = fetch_crime_by_stations(\n",
    "        province=province,\n",
    "        crimes_data=crimes_data,\n",
    "        police_data=police_data,\n",
    "        category=category,\n",
    "        year=year\n",
    "    )\n",
    "    \n",
    "    province_districts = district_bounds[district_bounds['NAME_1'] == province]\n",
    "    province_districts_ee = geemap.geopandas_to_ee(gdf=province_districts)\n",
    "    province_location = geocode(place=province, api_key=api_key)\n",
    "    province_location = province_location[::-1]\n",
    "    \n",
    "    m = geemap.Map(location=province_location, zoom=7)\n",
    "    m.addLayer(ee_object=province_districts_ee, vis_params={}, name=province)\n",
    "    \n",
    "    for (each_point, each_station, each_count) in zip(sc_gdf['geometry'], sc_gdf['Station'], sc_gdf[year_col]):\n",
    "        each_loc = [each_point.y, each_point.x]\n",
    "        each_marker = Marker(\n",
    "            location=each_loc,\n",
    "            draggable=False,\n",
    "            # title='{}; {}'.format(each_station, each_count)\n",
    "        )\n",
    "        each_message = HTML()\n",
    "        each_message.value = '{}; {}'.format(each_station, each_count)\n",
    "        m.add_layer(each_marker)\n",
    "        each_marker.popup = each_message\n",
    "    \n",
    "    return m"
   ]
  },
  {
   "cell_type": "code",
   "execution_count": 25,
   "metadata": {
    "scrolled": false
   },
   "outputs": [
    {
     "name": "stdout",
     "output_type": "stream",
     "text": [
      "Geocode response status - Western Cape : 200 OK\n"
     ]
    },
    {
     "data": {
      "application/vnd.jupyter.widget-view+json": {
       "model_id": "a2e124e3862442c8ad16e2873402619d",
       "version_major": 2,
       "version_minor": 0
      },
      "text/plain": [
       "Map(center=[-33.582933, 19.760643], controls=(WidgetControl(options=['position', 'transparent_bg'], widget=HBo…"
      ]
     },
     "metadata": {},
     "output_type": "display_data"
    }
   ],
   "source": [
    "plot_stations_by_province(\n",
    "    province='Western Cape',\n",
    "    district_bounds=sa_districts,\n",
    "    crimes_data=sa_crimes_df,\n",
    "    police_data=police_bounds_gdf,\n",
    "    category='Murder',\n",
    "    year=2006\n",
    ")"
   ]
  },
  {
   "cell_type": "markdown",
   "metadata": {},
   "source": [
    "**Plot choropleth map with the count of stations (where crimes have occurred) per district**\n",
    "\n",
    "* Spatial join operation to check if a station (point) exists in district (polygon)."
   ]
  },
  {
   "cell_type": "code",
   "execution_count": 26,
   "metadata": {},
   "outputs": [],
   "source": [
    "def plot_choropleth_by_year(province, district_bounds, crimes_data, police_data, category, year):\n",
    "    start_year = year\n",
    "    end_year = start_year + 1\n",
    "    year_col = '{}-{}'.format(start_year, end_year)\n",
    "    \n",
    "    sc_gdf = fetch_crime_by_stations(\n",
    "        province=province,\n",
    "        crimes_data=crimes_data,\n",
    "        police_data=police_data,\n",
    "        category=category,\n",
    "        year=year\n",
    "    )\n",
    "    \n",
    "    province_districts = district_bounds[district_bounds['NAME_1'] == province]\n",
    "    province_districts_ee = geemap.geopandas_to_ee(gdf=province_districts)\n",
    "    province_location = geocode(place=province, api_key=api_key)\n",
    "    province_location = province_location[::-1]\n",
    "    \n",
    "    sinprovince = sjoin(left_df=sc_gdf, right_df=province_districts, how=\"right\")\n",
    "    sinprovince = sinprovince.dropna(axis=0)\n",
    "    sinprovince = sinprovince[['Station', 'NAME_2', year_col]]\n",
    "    sinprovince = sinprovince.groupby(by='NAME_2').sum()\n",
    "    sinprovince['geometry'] = [\n",
    "        province_districts[province_districts['NAME_2'] == i]['geometry'].values[0] for i in sinprovince.index\n",
    "    ]\n",
    "    sinprovince = gpd.GeoDataFrame(sinprovince)\n",
    "    \n",
    "    m = geemap.Map(location=province_location, zoom=7)\n",
    "    m.addLayer(ee_object=province_districts_ee, vis_params={}, name='{} Districts'.format(province))\n",
    "\n",
    "    choropleth_layer = Choropleth(\n",
    "        geo_data=sinprovince.geometry.__geo_interface__,\n",
    "        choro_data=dict(sinprovince[year_col]),\n",
    "        style={'fillOpacity': 1.0, \"color\":\"black\"}\n",
    "    )\n",
    "\n",
    "    m.add_layer(layer=choropleth_layer)\n",
    "    \n",
    "    html = HTML('''\n",
    "        <h4>Province : <b>{}</b></h4>\n",
    "        Hover over a district\n",
    "    '''.format(province))\n",
    "    html.layout.margin = '0px 20px 20px 20px'\n",
    "    control = WidgetControl(widget=html, position='bottomright')\n",
    "    \n",
    "    m.add_control(control)\n",
    "    def update_html(feature, **kwargs):\n",
    "        # print(feature)\n",
    "        html.value = '''\n",
    "            <h4>Province : <b>{}</b></h4>\n",
    "            <p>District : <b>{}</b></p>\n",
    "            <p>Year : <b>{}</b></p>\n",
    "            <p>Crime category : <b>{}</b></p>\n",
    "            <p>Cases reported : <b>{}</b></p>\n",
    "        '''.format(\n",
    "                province, \n",
    "                feature['id'], \n",
    "                year_col, \n",
    "                category, \n",
    "                sinprovince.loc[feature['id']][year_col]\n",
    "            )\n",
    "\n",
    "    choropleth_layer.on_hover(callback=update_html)\n",
    "    \n",
    "    return m"
   ]
  },
  {
   "cell_type": "code",
   "execution_count": 27,
   "metadata": {},
   "outputs": [
    {
     "name": "stdout",
     "output_type": "stream",
     "text": [
      "Geocode response status - Eastern Cape : 200 OK\n"
     ]
    },
    {
     "data": {
      "application/vnd.jupyter.widget-view+json": {
       "model_id": "9f3aa5e64a0b4be8a6363fdfd77ee9bb",
       "version_major": 2,
       "version_minor": 0
      },
      "text/plain": [
       "Map(center=[-32.19228, 26.501313], controls=(WidgetControl(options=['position', 'transparent_bg'], widget=HBox…"
      ]
     },
     "metadata": {},
     "output_type": "display_data"
    }
   ],
   "source": [
    "plot_choropleth_by_year(\n",
    "    province='Eastern Cape',\n",
    "    district_bounds=sa_districts,\n",
    "    crimes_data=sa_crimes_df,\n",
    "    police_data=police_bounds_gdf,\n",
    "    category='Murder',\n",
    "    year=2010\n",
    ")"
   ]
  },
  {
   "cell_type": "markdown",
   "metadata": {},
   "source": [
    "**Plotting the crime stations of whole South Africa by year**"
   ]
  },
  {
   "cell_type": "code",
   "execution_count": 28,
   "metadata": {},
   "outputs": [],
   "source": [
    "def visualize_crimes_sa_by_year(sa_location, district_bounds, crimes_data, police_data, category, year):\n",
    "    sa_provinces = ['Eastern Cape', 'Free State', 'Gauteng', 'Kwazulu/Natal', 'Limpopo', \n",
    "                    'Mpumalanga', 'North West', 'Northern Cape', 'Western Cape']\n",
    "    \n",
    "    start_year = year\n",
    "    end_year = start_year + 1\n",
    "    year_col = '{}-{}'.format(start_year, end_year)\n",
    "    \n",
    "    m = geemap.Map(location=sa_location, zoom=5)\n",
    "    \n",
    "    for each_p in sa_provinces:\n",
    "        each_p_gdf = fetch_crime_by_stations(\n",
    "            province=each_p,\n",
    "            crimes_data=crimes_data,\n",
    "            police_data=police_data,\n",
    "            category=category,\n",
    "            year=year\n",
    "        )\n",
    "        \n",
    "        province_districts = district_bounds[district_bounds['NAME_1'] == each_p]\n",
    "        province_districts_ee = geemap.geopandas_to_ee(gdf=province_districts)\n",
    "\n",
    "        sinprovince = sjoin(left_df=each_p_gdf, right_df=province_districts, how=\"right\")\n",
    "        sinprovince = sinprovince.dropna(axis=0)\n",
    "        sinprovince = sinprovince[['Station', 'NAME_2', year_col]]\n",
    "        sinprovince = sinprovince.groupby(by='NAME_2').sum()\n",
    "        sinprovince['geometry'] = [\n",
    "            province_districts[province_districts['NAME_2'] == i]['geometry'].values[0] for i in sinprovince.index\n",
    "        ]\n",
    "        sinprovince = gpd.GeoDataFrame(sinprovince)\n",
    "        \n",
    "        m.addLayer(ee_object=province_districts_ee, vis_params={}, name='{} Districts'.format(each_p))\n",
    "        choropleth_layer = Choropleth(\n",
    "            geo_data=sinprovince.geometry.__geo_interface__,\n",
    "            choro_data=dict(sinprovince[year_col]),\n",
    "            style={'fillOpacity': 1.0, \"color\":\"black\"}\n",
    "        )\n",
    "\n",
    "        m.add_layer(layer=choropleth_layer)\n",
    "    \n",
    "    return m"
   ]
  },
  {
   "cell_type": "code",
   "execution_count": 29,
   "metadata": {},
   "outputs": [
    {
     "data": {
      "application/vnd.jupyter.widget-view+json": {
       "model_id": "d287a7f6514b42e18484784ff717368b",
       "version_major": 2,
       "version_minor": 0
      },
      "text/plain": [
       "Map(center=[-31.3096, 18.357], controls=(WidgetControl(options=['position', 'transparent_bg'], widget=HBox(chi…"
      ]
     },
     "metadata": {},
     "output_type": "display_data"
    }
   ],
   "source": [
    "visualize_crimes_sa_by_year(\n",
    "    sa_location=location,\n",
    "    district_bounds=sa_districts,\n",
    "    crimes_data=sa_crimes_df,\n",
    "    police_data=police_bounds_gdf,\n",
    "    category='Stock-theft',\n",
    "    year=2006\n",
    ")"
   ]
  },
  {
   "cell_type": "markdown",
   "metadata": {},
   "source": [
    "**Plot choropleth map with the sum of all reported crimes in all the years from each district**\n",
    "\n",
    "* Spatial join operation to check if a station (point) exists in district (polygon)."
   ]
  },
  {
   "cell_type": "code",
   "execution_count": 30,
   "metadata": {},
   "outputs": [],
   "source": [
    "def fetch_total_crimes_by_category(province, category, crimes_data, police_data):\n",
    "    province_data = crimes_data[crimes_data['Province'] == province]\n",
    "    pc_data = province_data[province_data['Category'] == category]\n",
    "    \n",
    "    num_cols = list(pc_data._get_numeric_data().columns)\n",
    "    total_crimes = pc_data[num_cols].sum(axis=1).to_list()\n",
    "    \n",
    "    pc_df = pc_data.drop(columns=num_cols, axis=1)\n",
    "    pc_df['total_crimes'] = total_crimes\n",
    "    \n",
    "    sc_df = pc_df.groupby(by='Station').sum()\n",
    "    sc_df['geometry'] = [get_coords(police_df=police_data, station=i) for i in sc_df.index]\n",
    "    sc_df = sc_df.reset_index()\n",
    "    \n",
    "    return gpd.GeoDataFrame(sc_df)"
   ]
  },
  {
   "cell_type": "code",
   "execution_count": 31,
   "metadata": {},
   "outputs": [],
   "source": [
    "def plot_choropleth_of_total_crimes(province, category, district_bounds, crimes_data, police_data):\n",
    "    sc_df = fetch_total_crimes_by_category(\n",
    "        province=province,\n",
    "        category=category,\n",
    "        crimes_data=crimes_data,\n",
    "        police_data=police_data\n",
    "    )\n",
    "    \n",
    "    province_districts = district_bounds[district_bounds['NAME_1'] == province]\n",
    "    province_districts_ee = geemap.geopandas_to_ee(gdf=province_districts)\n",
    "    province_location = geocode(place=province, api_key=api_key)\n",
    "    province_location = province_location[::-1]\n",
    "    \n",
    "    sinprovince = sjoin(left_df=sc_df, right_df=province_districts, how=\"right\")\n",
    "    sinprovince = sinprovince.dropna(axis=0)\n",
    "    sinprovince = sinprovince.reset_index(drop=True)\n",
    "    sinprovince = sinprovince[['Station', 'NAME_2', 'total_crimes']]\n",
    "    sinprovince = sinprovince.groupby(by='NAME_2').sum()\n",
    "    sinprovince['geometry'] = [\n",
    "        province_districts[province_districts['NAME_2'] == i]['geometry'].values[0] for i in sinprovince.index\n",
    "    ]\n",
    "    sinprovince = gpd.GeoDataFrame(sinprovince)\n",
    "    \n",
    "    m = geemap.Map(location=province_location, zoom=7)\n",
    "    m.addLayer(ee_object=province_districts_ee, vis_params={}, name='{} Districts'.format(province))\n",
    "\n",
    "    choropleth_layer = Choropleth(\n",
    "        geo_data=sinprovince.geometry.__geo_interface__,\n",
    "        choro_data=dict(sinprovince['total_crimes']),\n",
    "        style={'fillOpacity': 1.0, \"color\":\"black\"}\n",
    "    )\n",
    "\n",
    "    m.add_layer(layer=choropleth_layer)\n",
    "    \n",
    "    html = HTML('''\n",
    "        <h4>Province : <b>{}</b></h4>\n",
    "        Hover over a district\n",
    "    '''.format(province))\n",
    "    html.layout.margin = '0px 20px 20px 20px'\n",
    "    control = WidgetControl(widget=html, position='bottomright')\n",
    "    \n",
    "    m.add_control(control)\n",
    "    def update_html(feature, **kwargs):\n",
    "        # print(feature)\n",
    "        html.value = '''\n",
    "            <h4>Province : <b>{}</b></h4>\n",
    "            <p>District : <b>{}</b></p>\n",
    "            <p>Crime category : <b>{}</b></p>\n",
    "            <p>Cases reported : <b>{}</b></p>\n",
    "        '''.format(\n",
    "                province, \n",
    "                feature['id'],  \n",
    "                category, \n",
    "                sinprovince.loc[feature['id']]['total_crimes']\n",
    "            )\n",
    "\n",
    "    choropleth_layer.on_hover(callback=update_html)\n",
    "    \n",
    "    return m"
   ]
  },
  {
   "cell_type": "code",
   "execution_count": 32,
   "metadata": {
    "scrolled": false
   },
   "outputs": [
    {
     "name": "stdout",
     "output_type": "stream",
     "text": [
      "Geocode response status - Eastern Cape : 200 OK\n"
     ]
    },
    {
     "data": {
      "application/vnd.jupyter.widget-view+json": {
       "model_id": "1c6d8b63b66a489cacaf5b2615c5b154",
       "version_major": 2,
       "version_minor": 0
      },
      "text/plain": [
       "Map(center=[-32.19228, 26.501313], controls=(WidgetControl(options=['position', 'transparent_bg'], widget=HBox…"
      ]
     },
     "metadata": {},
     "output_type": "display_data"
    }
   ],
   "source": [
    "plot_choropleth_of_total_crimes(\n",
    "    province='Eastern Cape', \n",
    "    category='Murder', \n",
    "    crimes_data=sa_crimes_df,\n",
    "    district_bounds=sa_districts,\n",
    "    police_data=police_bounds_gdf\n",
    ")"
   ]
  },
  {
   "cell_type": "markdown",
   "metadata": {},
   "source": [
    "**Plotting the crime stations of whole South Africa for all the years**"
   ]
  },
  {
   "cell_type": "code",
   "execution_count": 33,
   "metadata": {},
   "outputs": [],
   "source": [
    "def visualize_sa_total_crimes(sa_location, district_bounds, crimes_data, police_data, category):\n",
    "    sa_provinces = ['Eastern Cape', 'Free State', 'Gauteng', 'Kwazulu/Natal', 'Limpopo', \n",
    "                    'Mpumalanga', 'North West', 'Northern Cape', 'Western Cape']\n",
    "    \n",
    "    m = geemap.Map(location=sa_location, zoom=5)\n",
    "    \n",
    "    for each_p in sa_provinces:\n",
    "        each_p_gdf = fetch_total_crimes_by_category(\n",
    "            province=each_p,\n",
    "            category=category,\n",
    "            crimes_data=crimes_data,\n",
    "            police_data=police_data\n",
    "        )\n",
    "\n",
    "        province_districts = district_bounds[district_bounds['NAME_1'] == each_p]\n",
    "        province_districts_ee = geemap.geopandas_to_ee(gdf=province_districts)\n",
    "\n",
    "        sinprovince = sjoin(left_df=each_p_gdf, right_df=province_districts, how=\"right\")\n",
    "        sinprovince = sinprovince.dropna(axis=0)\n",
    "        sinprovince = sinprovince.reset_index(drop=True)\n",
    "        sinprovince = sinprovince[['Station', 'NAME_2', 'total_crimes']]\n",
    "        sinprovince = sinprovince.groupby(by='NAME_2').sum()\n",
    "        sinprovince['geometry'] = [\n",
    "            province_districts[province_districts['NAME_2'] == i]['geometry'].values[0] for i in sinprovince.index\n",
    "        ]\n",
    "        sinprovince = gpd.GeoDataFrame(sinprovince)\n",
    "\n",
    "        m.addLayer(ee_object=province_districts_ee, vis_params={}, name='{} Districts'.format(each_p))\n",
    "\n",
    "        choropleth_layer = Choropleth(\n",
    "            geo_data=sinprovince.geometry.__geo_interface__,\n",
    "            choro_data=dict(sinprovince['total_crimes']),\n",
    "            style={'fillOpacity': 1.0, \"color\":\"black\"}\n",
    "        )\n",
    "\n",
    "        m.add_layer(layer=choropleth_layer)\n",
    "        \n",
    "    return m"
   ]
  },
  {
   "cell_type": "code",
   "execution_count": 34,
   "metadata": {
    "scrolled": false
   },
   "outputs": [
    {
     "data": {
      "application/vnd.jupyter.widget-view+json": {
       "model_id": "d611cb5c5433488795e874c97cd01fac",
       "version_major": 2,
       "version_minor": 0
      },
      "text/plain": [
       "Map(center=[-31.3096, 18.357], controls=(WidgetControl(options=['position', 'transparent_bg'], widget=HBox(chi…"
      ]
     },
     "metadata": {},
     "output_type": "display_data"
    }
   ],
   "source": [
    "visualize_sa_total_crimes(\n",
    "    sa_location=location,\n",
    "    district_bounds=sa_districts,\n",
    "    crimes_data=sa_crimes_df,\n",
    "    police_data=police_bounds_gdf,\n",
    "    category='Stock-theft'\n",
    ")"
   ]
  },
  {
   "cell_type": "markdown",
   "metadata": {},
   "source": [
    "### End"
   ]
  }
 ],
 "metadata": {
  "kernelspec": {
   "display_name": "Python 3",
   "language": "python",
   "name": "python3"
  },
  "language_info": {
   "codemirror_mode": {
    "name": "ipython",
    "version": 3
   },
   "file_extension": ".py",
   "mimetype": "text/x-python",
   "name": "python",
   "nbconvert_exporter": "python",
   "pygments_lexer": "ipython3",
   "version": "3.8.4"
  },
  "varInspector": {
   "cols": {
    "lenName": 16,
    "lenType": 16,
    "lenVar": 40
   },
   "kernels_config": {
    "python": {
     "delete_cmd_postfix": "",
     "delete_cmd_prefix": "del ",
     "library": "var_list.py",
     "varRefreshCmd": "print(var_dic_list())"
    },
    "r": {
     "delete_cmd_postfix": ") ",
     "delete_cmd_prefix": "rm(",
     "library": "var_list.r",
     "varRefreshCmd": "cat(var_dic_list()) "
    }
   },
   "types_to_exclude": [
    "module",
    "function",
    "builtin_function_or_method",
    "instance",
    "_Feature"
   ],
   "window_display": false
  }
 },
 "nbformat": 4,
 "nbformat_minor": 4
}
